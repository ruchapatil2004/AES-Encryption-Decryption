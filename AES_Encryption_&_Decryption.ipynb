{
  "nbformat": 4,
  "nbformat_minor": 0,
  "metadata": {
    "colab": {
      "provenance": []
    },
    "kernelspec": {
      "name": "python3",
      "display_name": "Python 3"
    },
    "language_info": {
      "name": "python"
    }
  },
  "cells": [
    {
      "cell_type": "code",
      "execution_count": 1,
      "metadata": {
        "colab": {
          "base_uri": "https://localhost:8080/"
        },
        "id": "2IEckCmb42mv",
        "outputId": "38caf472-fc13-4fdf-f3fb-a7c03e063364"
      },
      "outputs": [
        {
          "output_type": "stream",
          "name": "stdout",
          "text": [
            "Collecting pycryptodome\n",
            "  Downloading pycryptodome-3.20.0-cp35-abi3-manylinux_2_17_x86_64.manylinux2014_x86_64.whl.metadata (3.4 kB)\n",
            "Downloading pycryptodome-3.20.0-cp35-abi3-manylinux_2_17_x86_64.manylinux2014_x86_64.whl (2.1 MB)\n",
            "\u001b[2K   \u001b[90m━━━━━━━━━━━━━━━━━━━━━━━━━━━━━━━━━━━━━━━━\u001b[0m \u001b[32m2.1/2.1 MB\u001b[0m \u001b[31m8.4 MB/s\u001b[0m eta \u001b[36m0:00:00\u001b[0m\n",
            "\u001b[?25hInstalling collected packages: pycryptodome\n",
            "Successfully installed pycryptodome-3.20.0\n"
          ]
        }
      ],
      "source": [
        "!pip install pycryptodome"
      ]
    },
    {
      "cell_type": "code",
      "source": [
        "from Crypto.Cipher import AES\n",
        "from Crypto.Random import get_random_bytes\n",
        "from base64 import b64encode, b64decode"
      ],
      "metadata": {
        "id": "WMHGlbWt5P4A"
      },
      "execution_count": 2,
      "outputs": []
    },
    {
      "cell_type": "code",
      "source": [
        "def generate_key():\n",
        "    return get_random_bytes(16)"
      ],
      "metadata": {
        "id": "MbiNzVYx5SoV"
      },
      "execution_count": 13,
      "outputs": []
    },
    {
      "cell_type": "code",
      "source": [
        "def encrypt_file(data, key):\n",
        "    cipher = AES.new(key, AES.MODE_EAX)\n",
        "    ciphertext, tag = cipher.encrypt_and_digest(data)\n",
        "    return cipher.nonce + tag + ciphertext"
      ],
      "metadata": {
        "id": "yZGLbQhA5Vk7"
      },
      "execution_count": 14,
      "outputs": []
    },
    {
      "cell_type": "code",
      "source": [
        "def decrypt_file(encrypted_data, key):\n",
        "    nonce, tag, ciphertext = encrypted_data[:16], encrypted_data[16:32], encrypted_data[32:]\n",
        "    cipher = AES.new(key, AES.MODE_EAX, nonce=nonce)\n",
        "    return cipher.decrypt_and_verify(ciphertext, tag)"
      ],
      "metadata": {
        "id": "Xtq-LKie6JLj"
      },
      "execution_count": 15,
      "outputs": []
    },
    {
      "cell_type": "code",
      "source": [
        "sample_text = b\"This is a secret message.\""
      ],
      "metadata": {
        "id": "-0u11iFy6Mhc"
      },
      "execution_count": 19,
      "outputs": []
    },
    {
      "cell_type": "code",
      "source": [
        "key = generate_key()\n",
        "print(f\"Key (base64): {b64encode(key).decode()}\")"
      ],
      "metadata": {
        "colab": {
          "base_uri": "https://localhost:8080/"
        },
        "id": "RO_l3r626P3z",
        "outputId": "cc2e1f53-a65d-44e6-e865-2d4537fdcde6"
      },
      "execution_count": 20,
      "outputs": [
        {
          "output_type": "stream",
          "name": "stdout",
          "text": [
            "Key (base64): CGpwRlEZk8ZpGCbTQK/ESw==\n"
          ]
        }
      ]
    },
    {
      "cell_type": "code",
      "source": [
        "encrypted_data = encrypt_file(sample_text, key)\n",
        "print(f\"Encrypted Data (base64): {b64encode(encrypted_data).decode()}\")"
      ],
      "metadata": {
        "colab": {
          "base_uri": "https://localhost:8080/"
        },
        "id": "oFuKeIbP6WV_",
        "outputId": "4e404134-9b06-480f-b974-27e425ad94f0"
      },
      "execution_count": 21,
      "outputs": [
        {
          "output_type": "stream",
          "name": "stdout",
          "text": [
            "Encrypted Data (base64): 5/qzv9J+SNlDKdL+hVkGpOqHCi1fji9Q9aSWPvyV0RvFnmtusa8wRFl6eSmvHGM0kTn1ycjg5tlu\n"
          ]
        }
      ]
    },
    {
      "cell_type": "code",
      "source": [
        "decrypted_data = decrypt_file(encrypted_data, key)\n",
        "print(f\"Decrypted Data: {decrypted_data.decode()}\")"
      ],
      "metadata": {
        "colab": {
          "base_uri": "https://localhost:8080/"
        },
        "id": "SoMQmsLl6Ykk",
        "outputId": "174e55b7-947f-4eb0-b796-198b6d71ac75"
      },
      "execution_count": 22,
      "outputs": [
        {
          "output_type": "stream",
          "name": "stdout",
          "text": [
            "Decrypted Data: This is a secret message.\n"
          ]
        }
      ]
    },
    {
      "cell_type": "code",
      "source": [],
      "metadata": {
        "id": "RPNJJUTR6jIu"
      },
      "execution_count": null,
      "outputs": []
    }
  ]
}